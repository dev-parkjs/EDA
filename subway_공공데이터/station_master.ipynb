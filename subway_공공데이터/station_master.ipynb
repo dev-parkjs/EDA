{
 "cells": [
  {
   "cell_type": "code",
   "execution_count": 1,
   "id": "1ff11ab1",
   "metadata": {},
   "outputs": [],
   "source": [
    "import numpy as np\n",
    "import pandas as pd"
   ]
  },
  {
   "cell_type": "code",
   "execution_count": 3,
   "id": "8cdb8db4",
   "metadata": {},
   "outputs": [],
   "source": [
    "df=pd.read_csv('/Users/parkjisook/Desktop/공공데이터/서울시 역사마스터 정보.csv',encoding='cp949')"
   ]
  },
  {
   "cell_type": "code",
   "execution_count": 7,
   "id": "64d71f33",
   "metadata": {},
   "outputs": [
    {
     "data": {
      "text/html": [
       "<div>\n",
       "<style scoped>\n",
       "    .dataframe tbody tr th:only-of-type {\n",
       "        vertical-align: middle;\n",
       "    }\n",
       "\n",
       "    .dataframe tbody tr th {\n",
       "        vertical-align: top;\n",
       "    }\n",
       "\n",
       "    .dataframe thead th {\n",
       "        text-align: right;\n",
       "    }\n",
       "</style>\n",
       "<table border=\"1\" class=\"dataframe\">\n",
       "  <thead>\n",
       "    <tr style=\"text-align: right;\">\n",
       "      <th></th>\n",
       "      <th>역사_ID</th>\n",
       "      <th>역사명</th>\n",
       "      <th>호선</th>\n",
       "      <th>위도</th>\n",
       "      <th>경도</th>\n",
       "    </tr>\n",
       "  </thead>\n",
       "  <tbody>\n",
       "    <tr>\n",
       "      <th>0</th>\n",
       "      <td>9010</td>\n",
       "      <td>동탄</td>\n",
       "      <td>수도권 광역급행철도</td>\n",
       "      <td>37.20034</td>\n",
       "      <td>127.09569</td>\n",
       "    </tr>\n",
       "    <tr>\n",
       "      <th>1</th>\n",
       "      <td>9009</td>\n",
       "      <td>구성</td>\n",
       "      <td>수도권 광역급행철도</td>\n",
       "      <td>37.29913</td>\n",
       "      <td>127.10389</td>\n",
       "    </tr>\n",
       "    <tr>\n",
       "      <th>2</th>\n",
       "      <td>9008</td>\n",
       "      <td>성남</td>\n",
       "      <td>수도권 광역급행철도</td>\n",
       "      <td>37.39467</td>\n",
       "      <td>127.12058</td>\n",
       "    </tr>\n",
       "    <tr>\n",
       "      <th>3</th>\n",
       "      <td>9007</td>\n",
       "      <td>수서</td>\n",
       "      <td>수도권 광역급행철도</td>\n",
       "      <td>37.48637</td>\n",
       "      <td>127.10161</td>\n",
       "    </tr>\n",
       "    <tr>\n",
       "      <th>4</th>\n",
       "      <td>9006</td>\n",
       "      <td>삼성</td>\n",
       "      <td>수도권 광역급행철도</td>\n",
       "      <td>37.50887</td>\n",
       "      <td>127.06324</td>\n",
       "    </tr>\n",
       "  </tbody>\n",
       "</table>\n",
       "</div>"
      ],
      "text/plain": [
       "   역사_ID 역사명          호선        위도         경도\n",
       "0   9010  동탄  수도권 광역급행철도  37.20034  127.09569\n",
       "1   9009  구성  수도권 광역급행철도  37.29913  127.10389\n",
       "2   9008  성남  수도권 광역급행철도  37.39467  127.12058\n",
       "3   9007  수서  수도권 광역급행철도  37.48637  127.10161\n",
       "4   9006  삼성  수도권 광역급행철도  37.50887  127.06324"
      ]
     },
     "execution_count": 7,
     "metadata": {},
     "output_type": "execute_result"
    }
   ],
   "source": [
    "df.head()"
   ]
  },
  {
   "cell_type": "code",
   "execution_count": null,
   "id": "12060ebe",
   "metadata": {},
   "outputs": [],
   "source": []
  }
 ],
 "metadata": {
  "kernelspec": {
   "display_name": "yeardream",
   "language": "python",
   "name": "python3"
  },
  "language_info": {
   "codemirror_mode": {
    "name": "ipython",
    "version": 3
   },
   "file_extension": ".py",
   "mimetype": "text/x-python",
   "name": "python",
   "nbconvert_exporter": "python",
   "pygments_lexer": "ipython3",
   "version": "3.9.16"
  }
 },
 "nbformat": 4,
 "nbformat_minor": 5
}
